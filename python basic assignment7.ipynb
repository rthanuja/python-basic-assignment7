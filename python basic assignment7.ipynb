{
 "cells": [
  {
   "cell_type": "code",
   "execution_count": null,
   "id": "c28d0749",
   "metadata": {},
   "outputs": [],
   "source": [
    "#1.What is the name of the feature responsible for generating Regex objects?\n",
    "\n",
    "re.compile() method is used to compile a regular expression pattern into a regex pattern object\n"
   ]
  },
  {
   "cell_type": "code",
   "execution_count": null,
   "id": "af470216",
   "metadata": {},
   "outputs": [],
   "source": [
    "#2. Why do raw strings often appear in Regex objects?\n",
    "\n",
    "Raw strings suppresses the escaping (by backslash (\\) ) at the python interpreter level so that the \n",
    "string goes unchanged to regex."
   ]
  },
  {
   "cell_type": "code",
   "execution_count": null,
   "id": "5143701d",
   "metadata": {},
   "outputs": [],
   "source": [
    "#3. What is the return value of the search() method?\n",
    "\n",
    "match object contains 2 items:\n",
    "1.tuple containing start and end of index of match object\n",
    "2.actual matching value"
   ]
  },
  {
   "cell_type": "code",
   "execution_count": null,
   "id": "452bd0d4",
   "metadata": {},
   "outputs": [],
   "source": [
    "#4. From a Match item, how do you get the actual strings that match the pattern?\n",
    "\n",
    "match_item.group(0)  returns the actual string matching the pattern\n"
   ]
  },
  {
   "cell_type": "code",
   "execution_count": null,
   "id": "6d9a6ad6",
   "metadata": {},
   "outputs": [],
   "source": [
    "#5. In the regex which created from the r'(\\d\\d\\d)-(\\d\\d\\d-\\d\\d\\d\\d)', what does group zero cover? Group 2? Group 1?\n",
    "\n",
    "group 0 cover whole string - (\\d\\d\\d)-(\\d\\d\\d-\\d\\d\\d\\d)\n",
    "group 1 cover first parantheses-(\\d\\d\\d)\n",
    "group 2 cover first parantheses-(\\d\\d\\d-\\d\\d\\d\\d)"
   ]
  },
  {
   "cell_type": "code",
   "execution_count": 1,
   "id": "352024d4",
   "metadata": {},
   "outputs": [
    {
     "name": "stdout",
     "output_type": "stream",
     "text": [
      "789-564-1234\n",
      "789\n",
      "564-1234\n"
     ]
    }
   ],
   "source": [
    "import re\n",
    "s=\"789-564-1234\"\n",
    "m=re.search( r'(\\d\\d\\d)-(\\d\\d\\d-\\d\\d\\d\\d)',s)\n",
    "print(m.group(0),m.group(1),m.group(2),sep=\"\\n\")"
   ]
  },
  {
   "cell_type": "code",
   "execution_count": null,
   "id": "31790f41",
   "metadata": {},
   "outputs": [],
   "source": [
    "6. In standard expression syntax, parentheses and intervals have distinct meanings. How can you tell a regex\n",
    "that you want it to fit real parentheses and periods?\n",
    "\n",
    "we can use a backslash to fit real paranthesis and periods  '\\)\\.'"
   ]
  },
  {
   "cell_type": "code",
   "execution_count": 2,
   "id": "8fc8837c",
   "metadata": {},
   "outputs": [
    {
     "data": {
      "text/plain": [
       "['(123).']"
      ]
     },
     "execution_count": 2,
     "metadata": {},
     "output_type": "execute_result"
    }
   ],
   "source": [
    "import re\n",
    "s=\"(123).\"\n",
    "re.findall(r'(\\(\\d+\\)\\.)',s)"
   ]
  },
  {
   "cell_type": "code",
   "execution_count": null,
   "id": "49bc33f0",
   "metadata": {},
   "outputs": [],
   "source": [
    "7. The findall() method returns a string list or a list of string tuples. What causes it to return one of the two options?\n",
    "\n",
    "findall() method returns a string list if there are no groups\n",
    "findall() method returns a list of string tuples if grouping is done in regex"
   ]
  },
  {
   "cell_type": "code",
   "execution_count": null,
   "id": "f563f4dc",
   "metadata": {},
   "outputs": [],
   "source": [
    "8. In standard expressions, what does the | character mean?\n",
    "\n",
    "| is called vertical bar or pipe\n",
    "it specifies a set of alternatives on which to match  (<regex1>|<regex2>)matches if <regex1> or <regex2> is present \n",
    "it is non greedy that is returns the first match it finds\n"
   ]
  },
  {
   "cell_type": "code",
   "execution_count": null,
   "id": "74915fb5",
   "metadata": {},
   "outputs": [],
   "source": [
    "9. In regular expressions, what does the ? character stand for?\n",
    "\n",
    "? ---> \n",
    "matches 0 or 1  repitition\n",
    "used in creating named groups\n",
    "introduces lookahead and lookbehind assertion\n",
    "specifies non greedy versions of *,+,?\n",
    "\n"
   ]
  },
  {
   "cell_type": "raw",
   "id": "e4ea3c4b",
   "metadata": {},
   "source": [
    "10.In regular expressions, what is the difference between the + and * characters?\n",
    "\n",
    "+ ---> matches 1 or more occurences of the preceding regex\n",
    "* ---> matches 0 or more occurences of the preceding regex\n"
   ]
  },
  {
   "cell_type": "code",
   "execution_count": 3,
   "id": "1bbf3b0f",
   "metadata": {},
   "outputs": [
    {
     "name": "stdout",
     "output_type": "stream",
     "text": [
      "['789a', 'b', 'c', 'c']\n",
      "['789a']\n"
     ]
    }
   ],
   "source": [
    "import re\n",
    "s=\"789abc-4dce-fgh\"\n",
    "print(re.findall(r'\\d*[a,b,c]',s))\n",
    "print(re.findall(r'\\d+[a,b,c]',s))"
   ]
  },
  {
   "cell_type": "code",
   "execution_count": null,
   "id": "1214dc47",
   "metadata": {},
   "outputs": [],
   "source": [
    "11. What is the difference between {4} and {4,5} in regular expression?\n",
    "\n",
    "{4}---> matches exactly 4 repititions of preceding regex\n",
    "{4,5}--->matches any repititions of preceding regex from 4 to 5 inclusive\n"
   ]
  },
  {
   "cell_type": "code",
   "execution_count": 4,
   "id": "45179e27",
   "metadata": {},
   "outputs": [
    {
     "name": "stdout",
     "output_type": "stream",
     "text": [
      "['7894']\n",
      "['78943']\n"
     ]
    }
   ],
   "source": [
    "import re\n",
    "s=\"78943-432-547\"\n",
    "print(re.findall(r'\\d{4}',s))\n",
    "print(re.findall(r'\\d{4,5}',s))"
   ]
  },
  {
   "cell_type": "code",
   "execution_count": null,
   "id": "7d96b931",
   "metadata": {},
   "outputs": [],
   "source": [
    "12. What do you mean by the \\d, \\w, and \\s shorthand character classes signify in regular expressions?\n",
    "\n",
    "\\d - matches digit [0-9]\n",
    "\\w - matches any alphabet or digit or underscore [a-zA-Z0-9_]\n",
    "\\s - matches whitespace"
   ]
  },
  {
   "cell_type": "code",
   "execution_count": null,
   "id": "298da1a4",
   "metadata": {},
   "outputs": [],
   "source": [
    "13. What do means by \\D, \\W, and \\S shorthand character classes signify in regular expressions?\n",
    "\n",
    "\\D - matches any character which is not a digit\n",
    "\\W - matches any character which is  not a word character [a-zA-Z0-9_]\n",
    "\\S - matches any character which is  not whitespace character"
   ]
  },
  {
   "cell_type": "code",
   "execution_count": null,
   "id": "57ee8679",
   "metadata": {},
   "outputs": [],
   "source": [
    "#14. What is the difference between .*? and .*\n",
    "\n",
    ".* ---> it is a greedy metacharacter they produce the longest possible match\n",
    ".*? ---> non-greedy metacharacter returns the first match\n"
   ]
  },
  {
   "cell_type": "code",
   "execution_count": 5,
   "id": "95aabe84",
   "metadata": {},
   "outputs": [
    {
     "name": "stdout",
     "output_type": "stream",
     "text": [
      "['', '7', '', '8', '', '9', '', '4', '', '3', '', '-', '', '4', '', '3', '', '2', '', '-', '', '5', '', '4', '', '7', '']\n",
      "['78943-432-547', '']\n"
     ]
    }
   ],
   "source": [
    "import re\n",
    "s=\"78943-432-547\"\n",
    "m=re.findall('.*?',s)\n",
    "n=re.findall('.*',s)\n",
    "print(m,n,sep=\"\\n\")\n"
   ]
  },
  {
   "cell_type": "code",
   "execution_count": null,
   "id": "8a88ad8e",
   "metadata": {},
   "outputs": [],
   "source": [
    "15. What is the syntax for matching both numbers and lowercase letters with a character class?\n",
    "\n",
    "[a-z0-9] "
   ]
  },
  {
   "cell_type": "code",
   "execution_count": null,
   "id": "6c2240eb",
   "metadata": {},
   "outputs": [],
   "source": [
    "16. What is the procedure for making a normal expression in regax case insensitive?\n",
    "\n",
    "re.I, re.IGNORECASE has to be passed as a second argument in re.compile()\n"
   ]
  },
  {
   "cell_type": "code",
   "execution_count": null,
   "id": "ff907950",
   "metadata": {},
   "outputs": [],
   "source": [
    "17. What does the . character normally match? What does it match if re.DOTALL is passed as 2nd argument in re.compile()?\n",
    "\n",
    ". character matches any character except a newline\n",
    "if re.DOTALL is passed as second argument to re.compile() then . character matches a newline also\n"
   ]
  },
  {
   "cell_type": "code",
   "execution_count": null,
   "id": "cd31686e",
   "metadata": {},
   "outputs": [],
   "source": [
    "18. If numRegex = re.compile(r'\\d+'), what will numRegex.sub('X', '11 drummers, 10 pipers, five rings, 4 hen') return?\n",
    "\n",
    "'X drummers, X pipers, five rings, X hen'\n"
   ]
  },
  {
   "cell_type": "code",
   "execution_count": null,
   "id": "b63e967c",
   "metadata": {},
   "outputs": [],
   "source": [
    "19. What does passing re.VERBOSE as the 2nd argument to re.compile() allow to do?\n",
    "\n",
    "re.VERBOSE allows inclusion of whitespace and comments within a regex\n",
    "the regex parser ignores \n",
    "1.all whitespaces\n",
    "2.character \"#\" and charcters to the right of it\n",
    "unless they are within a character class or escaped with a backslash.\n"
   ]
  },
  {
   "cell_type": "code",
   "execution_count": 6,
   "id": "0af96bb3",
   "metadata": {},
   "outputs": [
    {
     "name": "stdout",
     "output_type": "stream",
     "text": [
      "['42', '1,234', '6,368,745']\n"
     ]
    }
   ],
   "source": [
    "'''20. How would you write a regex that match a number with comma for every three digits? It must match the given following:'''\n",
    "import re\n",
    "s=\"\"\"'42'\n",
    "   '1,234'\n",
    "    '6,368,745'\n",
    "  #but not the following:\n",
    "   '12,34,567' \n",
    "     '1234' \"\"\"\n",
    "m=re.findall(r'((?<=\\')(?:\\d{1,3})(?:,(?:\\d{3}))*)(?=\\')',s)\n",
    "print(m)"
   ]
  },
  {
   "cell_type": "code",
   "execution_count": 7,
   "id": "44301365",
   "metadata": {},
   "outputs": [
    {
     "name": "stdout",
     "output_type": "stream",
     "text": [
      "['Haruto Watanabe', 'Alice Watanabe', 'RoboCop Watanabe']\n"
     ]
    }
   ],
   "source": [
    "'''21. How would you write a regex that matches the full name of someone whose last name is Watanabe? \n",
    "You can assume that the first name that comes before it will always be one word that begins with a capital letter.\n",
    "The regex must match the following:'''\n",
    "s=\"\"\"\n",
    "'Haruto Watanabe'\n",
    "'Alice Watanabe'\n",
    "'RoboCop Watanabe'\n",
    "#but not the following:\n",
    "'haruto Watanabe'# (where the first name is not capitalized)\n",
    "'Mr. Watanabe' #(where the preceding word has a nonletter character)\n",
    "'Watanabe' #(which has no first name)\n",
    "'Haruto watanabe' #(where Watanabe is not capitalized)\"\"\"\n",
    "\n",
    "import re\n",
    "p=r'[A-Z][A-Za-z]*\\sWatanabe'\n",
    "m=re.findall(p,s)\n",
    "print(m)"
   ]
  },
  {
   "cell_type": "code",
   "execution_count": 8,
   "id": "d15270f6",
   "metadata": {},
   "outputs": [
    {
     "data": {
      "text/plain": [
       "['Alice eats apples.', 'Bob pets cats.', 'Carol throws baseballs.']"
      ]
     },
     "execution_count": 8,
     "metadata": {},
     "output_type": "execute_result"
    }
   ],
   "source": [
    "'''22. How would you write a regex that matches a sentence where the first word is either Alice, Bob, or Carol;\n",
    "the second word is either eats, pets, or throws; the third word is apples, cats, or baseballs; \n",
    "and the sentence ends with a period? This regex should be case-insensitive. It must match the following:'''\n",
    "s=\"\"\"\n",
    "'Alice eats apples.'\n",
    "'Bob pets cats.'\n",
    "'Carol throws baseballs.'\n",
    "'Alice throws Apples.'\n",
    "'BOB EATS CATS.'\n",
    "#but not the following:\n",
    "'RoboCop eats apples.'\n",
    "'ALICE THROWS FOOTBALLS.'\n",
    "'Carol eats 7 cats.\"\"\"\n",
    "import re\n",
    "p=r'((?:Alice|Bob|Carol)\\s(?:eats|pets|throws)\\s(?:apples|cats|baseballs)\\.)'\n",
    "m=re.findall(p,s)\n",
    "m\n"
   ]
  },
  {
   "cell_type": "code",
   "execution_count": null,
   "id": "6eb691f6",
   "metadata": {},
   "outputs": [],
   "source": []
  }
 ],
 "metadata": {
  "kernelspec": {
   "display_name": "Python 3 (ipykernel)",
   "language": "python",
   "name": "python3"
  },
  "language_info": {
   "codemirror_mode": {
    "name": "ipython",
    "version": 3
   },
   "file_extension": ".py",
   "mimetype": "text/x-python",
   "name": "python",
   "nbconvert_exporter": "python",
   "pygments_lexer": "ipython3",
   "version": "3.10.9"
  }
 },
 "nbformat": 4,
 "nbformat_minor": 5
}
